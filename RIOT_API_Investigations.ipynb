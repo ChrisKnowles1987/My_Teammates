{
 "cells": [
  {
   "cell_type": "markdown",
   "id": "ae5f33b3",
   "metadata": {},
   "source": [
    "# Investigating the RIOT API\n",
    "\n",
    "Using jupyter notebook to investigate the data returned from calls to the RIOT API"
   ]
  },
  {
   "cell_type": "markdown",
   "id": "e124f0ff",
   "metadata": {},
   "source": [
    "## Ensure the correct conda environment and kernel are being used\n",
    "[following this guide](https://jakevdp.github.io/blog/2017/12/05/installing-python-packages-from-jupyter/)\n"
   ]
  },
  {
   "cell_type": "code",
   "execution_count": 1,
   "id": "8b967d98",
   "metadata": {
    "scrolled": true
   },
   "outputs": [
    {
     "name": "stdout",
     "output_type": "stream",
     "text": [
      "# conda environments:\r\n",
      "#\r\n",
      "base                     /Users/chrisknowles/anaconda3\r\n",
      "Riot_dev              *  /Users/chrisknowles/anaconda3/envs/Riot_dev\r\n",
      "py311                    /Users/chrisknowles/anaconda3/envs/py311\r\n",
      "\r\n"
     ]
    }
   ],
   "source": [
    "!conda env list "
   ]
  },
  {
   "cell_type": "code",
   "execution_count": 2,
   "id": "80711f5f",
   "metadata": {},
   "outputs": [
    {
     "name": "stdout",
     "output_type": "stream",
     "text": [
      "python is /Users/chrisknowles/anaconda3/envs/Riot_dev/bin/python\r\n"
     ]
    }
   ],
   "source": [
    "!type python"
   ]
  },
  {
   "cell_type": "markdown",
   "id": "fb157284",
   "metadata": {},
   "source": [
    " ## Accessing the API\n",
    " Create an account at [developer.riotgames.com](https://developer.riotgames.com/) to generate a development API key\n",
    " Keys last 24 hours"
   ]
  },
  {
   "cell_type": "markdown",
   "id": "e1276de1",
   "metadata": {},
   "source": [
    "Get summoner info from SUMMONER-v4 api using summoner name\n",
    "url = https://euw1.api.riotgames.com/lol/summoner/v4/summoners/by-name/ChrisK1987?api_key=RGAPI-c712ee61-5a8e-46ef-9c1d-cc5d5fbef63b"
   ]
  },
  {
   "cell_type": "code",
   "execution_count": 3,
   "id": "019001f7",
   "metadata": {},
   "outputs": [
    {
     "name": "stdout",
     "output_type": "stream",
     "text": [
      "https://euw1.api.riotgames.com/lol/summoner/v4/summoners/by-name/ChrisK1987?api_key=RGAPI-c712ee61-5a8e-46ef-9c1d-cc5d5fbef63b\n"
     ]
    }
   ],
   "source": [
    "import requests\n",
    "\n",
    "api_key = 'RGAPI-c712ee61-5a8e-46ef-9c1d-cc5d5fbef63b'\n",
    "name = 'ChrisK1987'\n",
    "api_SUMMONER_v4 = 'https://euw1.api.riotgames.com/lol/summoner/v4/summoners/by-name/'\n",
    "summoner_info_url = f'{api_SUMMONER_v4}{name}?api_key={api_key}'\n",
    "print(summoner_info_url)"
   ]
  },
  {
   "cell_type": "code",
   "execution_count": 4,
   "id": "1fb52974",
   "metadata": {},
   "outputs": [
    {
     "data": {
      "text/plain": [
       "{'id': 'ZLvsYYSu3hAbPJ1nRN7ZlQ3L4Y2-QtPyhYpir3yV-gDEy03b',\n",
       " 'accountId': 'PlzXQ0iYej21s0pN4ckX4pJ6uBXKvMdeAGLy0UREhy9C2pY',\n",
       " 'puuid': 'z4qLmeJtju0fcmiPCTmo70aapj23Zh1S42i6NCM_n4bdMtUB5ty1K6OTw4zHfw-UQSzk_G4FbA7F_g',\n",
       " 'name': 'ChrisK1987',\n",
       " 'profileIconId': 3379,\n",
       " 'revisionDate': 1699745156000,\n",
       " 'summonerLevel': 434}"
      ]
     },
     "execution_count": 4,
     "metadata": {},
     "output_type": "execute_result"
    }
   ],
   "source": [
    "#get request as .json\n",
    "requests.get(summoner_info_url).json()"
   ]
  },
  {
   "cell_type": "code",
   "execution_count": 5,
   "id": "225252a3",
   "metadata": {},
   "outputs": [],
   "source": [
    "summoner_info = requests.get(summoner_info_url).json()"
   ]
  },
  {
   "cell_type": "code",
   "execution_count": 6,
   "id": "454752d4",
   "metadata": {},
   "outputs": [
    {
     "data": {
      "text/plain": [
       "['id',\n",
       " 'accountId',\n",
       " 'puuid',\n",
       " 'name',\n",
       " 'profileIconId',\n",
       " 'revisionDate',\n",
       " 'summonerLevel']"
      ]
     },
     "execution_count": 6,
     "metadata": {},
     "output_type": "execute_result"
    }
   ],
   "source": [
    "list(summoner_info.keys())"
   ]
  },
  {
   "cell_type": "code",
   "execution_count": 7,
   "id": "6a02d03f",
   "metadata": {},
   "outputs": [
    {
     "data": {
      "text/plain": [
       "'z4qLmeJtju0fcmiPCTmo70aapj23Zh1S42i6NCM_n4bdMtUB5ty1K6OTw4zHfw-UQSzk_G4FbA7F_g'"
      ]
     },
     "execution_count": 7,
     "metadata": {},
     "output_type": "execute_result"
    }
   ],
   "source": [
    "#can probe the request for specific info using the dictionary key\n",
    "summoner_info['puuid']"
   ]
  },
  {
   "cell_type": "markdown",
   "id": "74029797",
   "metadata": {},
   "source": [
    "## Using summoner_info to find match history and teamamtes\n",
    "\n"
   ]
  },
  {
   "cell_type": "markdown",
   "id": "81722789",
   "metadata": {},
   "source": [
    "using MATCH-v5 api to get match IDs for my summoner_info puid and filtered on ranked games"
   ]
  },
  {
   "cell_type": "code",
   "execution_count": 8,
   "id": "ac235720",
   "metadata": {},
   "outputs": [],
   "source": [
    "api_MATCH_v5 = 'https://europe.api.riotgames.com/lol/match/v5/matches/by-puuid/'"
   ]
  },
  {
   "cell_type": "code",
   "execution_count": 9,
   "id": "9ca5d18b",
   "metadata": {},
   "outputs": [
    {
     "name": "stdout",
     "output_type": "stream",
     "text": [
      "https://europe.api.riotgames.com/lol/match/v5/matches/by-puuid/z4qLmeJtju0fcmiPCTmo70aapj23Zh1S42i6NCM_n4bdMtUB5ty1K6OTw4zHfw-UQSzk_G4FbA7F_g/ids?type=ranked&start=0&count=20&api_key=RGAPI-c712ee61-5a8e-46ef-9c1d-cc5d5fbef63b\n",
      "https://europe.api.riotgames.com/lol/match/v5/matches/by-puuid/z4qLmeJtju0fcmiPCTmo70aapj23Zh1S42i6NCM_n4bdMtUB5ty1K6OTw4zHfw-UQSzk_G4FbA7F_g/ids?type=ranked&start=0&count=20&api_key=RGAPI-c712ee61-5a8e-46ef-9c1d-cc5d5fbef63b\n"
     ]
    }
   ],
   "source": [
    "summoner_matches_url = f\"{api_MATCH_v5}{summoner_info['puuid']}/ids?type=ranked&start=0&count=20&api_key={api_key}\"\n",
    "print(summoner_matches_url)\n",
    "\n",
    "#added the url from developer.riotgames.com to test my string maniplulation is correct,  \n",
    "#api_key will need replacing in future to check if a new request is correct\n",
    "url = 'https://europe.api.riotgames.com/lol/match/v5/matches/by-puuid/z4qLmeJtju0fcmiPCTmo70aapj23Zh1S42i6NCM_n4bdMtUB5ty1K6OTw4zHfw-UQSzk_G4FbA7F_g/ids?type=ranked&start=0&count=20&api_key=RGAPI-c712ee61-5a8e-46ef-9c1d-cc5d5fbef63b'\n",
    "print(url)"
   ]
  },
  {
   "cell_type": "code",
   "execution_count": 10,
   "id": "f9df2dd9",
   "metadata": {},
   "outputs": [
    {
     "name": "stdout",
     "output_type": "stream",
     "text": [
      "True\n"
     ]
    },
    {
     "data": {
      "text/plain": [
       "<Response [200]>"
      ]
     },
     "execution_count": 10,
     "metadata": {},
     "output_type": "execute_result"
    }
   ],
   "source": [
    "print(summoner_matches_url == url)\n",
    "requests.get(summoner_matches_url)"
   ]
  },
  {
   "cell_type": "code",
   "execution_count": 11,
   "id": "51c2eedc",
   "metadata": {},
   "outputs": [
    {
     "data": {
      "text/plain": [
       "['EUW1_6648437306',\n",
       " 'EUW1_6648386772',\n",
       " 'EUW1_6648332079',\n",
       " 'EUW1_6648244689',\n",
       " 'EUW1_6646666103',\n",
       " 'EUW1_6645391387',\n",
       " 'EUW1_6645299672',\n",
       " 'EUW1_6645164554',\n",
       " 'EUW1_6644088095',\n",
       " 'EUW1_6644029263',\n",
       " 'EUW1_6643922033',\n",
       " 'EUW1_6643863487',\n",
       " 'EUW1_6635285868',\n",
       " 'EUW1_6635214727',\n",
       " 'EUW1_6635138424',\n",
       " 'EUW1_6632385393',\n",
       " 'EUW1_6632301060',\n",
       " 'EUW1_6632214776',\n",
       " 'EUW1_6632170555',\n",
       " 'EUW1_6630873645']"
      ]
     },
     "execution_count": 11,
     "metadata": {},
     "output_type": "execute_result"
    }
   ],
   "source": [
    "requests.get(summoner_matches_url).json()"
   ]
  },
  {
   "cell_type": "code",
   "execution_count": 12,
   "id": "a3aea3a3",
   "metadata": {},
   "outputs": [],
   "source": [
    "summoner_matches = requests.get(summoner_matches_url).json()"
   ]
  },
  {
   "cell_type": "markdown",
   "id": "58f98586",
   "metadata": {},
   "source": [
    "## TODO\n",
    "- take each match and get teammates summoner_info\n",
    "- for each teammate, find their summoner_matches\n",
    "- for each teammates match, find out if they won or lost\n",
    " - count each teammates win/lose ratio to get average win / lose ratio for teammates\n",
    " - is there a better way to calculate this stat?\n",
    "  - are there other interesting stats? (e.g no of teammates who placed zero wards)\n",
    "  "
   ]
  },
  {
   "cell_type": "code",
   "execution_count": null,
   "id": "26e7eafd",
   "metadata": {},
   "outputs": [],
   "source": []
  }
 ],
 "metadata": {
  "kernelspec": {
   "display_name": "Python 3 (ipykernel)",
   "language": "python",
   "name": "python3"
  },
  "language_info": {
   "codemirror_mode": {
    "name": "ipython",
    "version": 3
   },
   "file_extension": ".py",
   "mimetype": "text/x-python",
   "name": "python",
   "nbconvert_exporter": "python",
   "pygments_lexer": "ipython3",
   "version": "3.11.5"
  }
 },
 "nbformat": 4,
 "nbformat_minor": 5
}
